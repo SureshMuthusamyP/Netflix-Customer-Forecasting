{
  "nbformat": 4,
  "nbformat_minor": 0,
  "metadata": {
    "colab": {
      "private_outputs": true,
      "provenance": []
    },
    "kernelspec": {
      "name": "python3",
      "display_name": "Python 3"
    },
    "language_info": {
      "name": "python"
    }
  },
  "cells": [
    {
      "cell_type": "code",
      "execution_count": null,
      "metadata": {
        "id": "oPwx38RwmZA_"
      },
      "outputs": [],
      "source": [
        "import pandas as pd\n",
        "import numpy as np\n",
        "import matplotlib.pyplot as plt\n",
        "import plotly.graph_objs as go\n",
        "import plotly.express as px\n",
        "import plotly.io as pio"
      ]
    },
    {
      "cell_type": "code",
      "source": [
        "Data = pd.read_csv(\"/content/Netflix_Customer _Subscription.csv\")"
      ],
      "metadata": {
        "id": "5a4L6FPzma55"
      },
      "execution_count": null,
      "outputs": []
    },
    {
      "cell_type": "code",
      "source": [
        "Data.head()"
      ],
      "metadata": {
        "id": "rC-GQQsCma8a"
      },
      "execution_count": null,
      "outputs": []
    },
    {
      "cell_type": "code",
      "source": [
        "Data.tail()"
      ],
      "metadata": {
        "id": "GKGOcHNtma_C"
      },
      "execution_count": null,
      "outputs": []
    },
    {
      "cell_type": "code",
      "source": [
        "Data['Time Period'] = pd.to_datetime(Data['Time Period'],\n",
        "                                     format='%d-%m-%Y')\n",
        "Data.head()"
      ],
      "metadata": {
        "id": "0PO6ItknmbBx"
      },
      "execution_count": null,
      "outputs": []
    },
    {
      "cell_type": "code",
      "source": [
        "import plotly.express as px\n",
        "fig = px.line(Data, x='Time Period', y='Subscribers', title='Netflix Quarterly Subscriptions Growth',\n",
        "              labels={'Subscribers': 'Netflix Paid Subscribers Count'},\n",
        "              line_shape='spline',\n",
        "              template='plotly_dark',\n",
        "              color_discrete_sequence=['green'],\n",
        "              markers=True)\n",
        "\n",
        "fig.show()\n"
      ],
      "metadata": {
        "id": "bHh9oxWAmbEo"
      },
      "execution_count": null,
      "outputs": []
    },
    {
      "cell_type": "code",
      "source": [
        "from sklearn.model_selection import train_test_split"
      ],
      "metadata": {
        "id": "OdAjQZ1tumVP"
      },
      "execution_count": null,
      "outputs": []
    },
    {
      "cell_type": "code",
      "source": [
        "time_series = Data.set_index('Time Period')['Subscribers']"
      ],
      "metadata": {
        "id": "kW_-6tcr0ipT"
      },
      "execution_count": null,
      "outputs": []
    },
    {
      "cell_type": "code",
      "source": [
        "differenced_series = time_series.diff().dropna()"
      ],
      "metadata": {
        "id": "Je8kpa7L04DP"
      },
      "execution_count": null,
      "outputs": []
    },
    {
      "cell_type": "code",
      "source": [
        "from statsmodels.graphics.tsaplots import plot_acf, plot_pacf\n",
        "fig, axes = plt.subplots(1, 2, figsize=(12, 4))\n",
        "plot_acf(differenced_series, ax=axes[0])\n",
        "plot_pacf(differenced_series, ax=axes[1])\n",
        "plt.show()"
      ],
      "metadata": {
        "id": "2IF-cD9dTCDm"
      },
      "execution_count": null,
      "outputs": []
    },
    {
      "cell_type": "code",
      "source": [
        "from statsmodels.tsa.arima.model import ARIMA\n",
        "model = ARIMA(time_series, order=(1, 1, 1))"
      ],
      "metadata": {
        "id": "a3nQN_dATwjK"
      },
      "execution_count": null,
      "outputs": []
    },
    {
      "cell_type": "code",
      "source": [
        "Output = model.fit()\n",
        "print(Output.summary())"
      ],
      "metadata": {
        "id": "6C1xp1J5T0AV"
      },
      "execution_count": null,
      "outputs": []
    },
    {
      "cell_type": "code",
      "source": [
        "Prediction_period = 9\n",
        "finalPrediction = Output.predict(len(time_series), len(time_series) + Prediction_period - 1)\n",
        "finalPrediction = finalPrediction.astype(int)"
      ],
      "metadata": {
        "id": "FeYRZty9X4Ju"
      },
      "execution_count": null,
      "outputs": []
    },
    {
      "cell_type": "code",
      "source": [
        "finalPrediction"
      ],
      "metadata": {
        "id": "vPlMhRNKY1b_"
      },
      "execution_count": null,
      "outputs": []
    },
    {
      "cell_type": "code",
      "source": [
        "final_forecasting = pd.DataFrame({'Initial_Series': time_series, 'final_Predictions': finalPrediction})\n"
      ],
      "metadata": {
        "id": "NPgTfZPmaFB6"
      },
      "execution_count": null,
      "outputs": []
    },
    {
      "cell_type": "code",
      "source": [
        "final_forecasting"
      ],
      "metadata": {
        "id": "tlm7vxp-dBsm"
      },
      "execution_count": null,
      "outputs": []
    },
    {
      "cell_type": "code",
      "source": [
        "import plotly.express as px\n",
        "\n",
        "fig = px.line(final_forecasting, x=final_forecasting.index, y=['final_Predictions', 'Initial_Series'],\n",
        "              labels={'value': 'Subscribers', 'index': 'Time Period'},\n",
        "              title='Netflix Quarterly Subscription Predictions',\n",
        "              line_shape='spline',\n",
        "              template='plotly_dark',\n",
        "              color_discrete_map={'final_Predictions': 'orange', 'Initial_Series': 'green'})\n",
        "\n",
        "fig.update_layout(legend=dict(x=0.1, y=0.9), showlegend=True)\n",
        "\n",
        "fig.show()\n"
      ],
      "metadata": {
        "id": "_0q87YXsbZON"
      },
      "execution_count": null,
      "outputs": []
    }
  ]
}